{
  "nbformat": 4,
  "nbformat_minor": 0,
  "metadata": {
    "colab": {
      "provenance": [],
      "authorship_tag": "ABX9TyPoyQJuVre9IrLrhzeO5T7I",
      "include_colab_link": true
    },
    "kernelspec": {
      "name": "python3",
      "display_name": "Python 3"
    },
    "language_info": {
      "name": "python"
    }
  },
  "cells": [
    {
      "cell_type": "markdown",
      "metadata": {
        "id": "view-in-github",
        "colab_type": "text"
      },
      "source": [
        "<a href=\"https://colab.research.google.com/github/sravani223/23CSBTB30/blob/main/listtypes.ipynb\" target=\"_parent\"><img src=\"https://colab.research.google.com/assets/colab-badge.svg\" alt=\"Open In Colab\"/></a>"
      ]
    },
    {
      "cell_type": "code",
      "execution_count": 10,
      "metadata": {
        "colab": {
          "base_uri": "https://localhost:8080/"
        },
        "id": "7GvLnZ6Rth6B",
        "outputId": "9390b39e-61cf-4abf-c2f9-2d4ca62d6fe8"
      },
      "outputs": [
        {
          "output_type": "stream",
          "name": "stdout",
          "text": [
            "(2, 6, 1, 8)\n",
            "<class 'tuple'>\n"
          ]
        }
      ],
      "source": [
        "lst =(2,6,1,8)\n",
        "print(lst)\n",
        "print(type(lst))\n"
      ]
    },
    {
      "cell_type": "code",
      "source": [
        "lst ={2:4,5:25,3:9,8:64,6:36}\n",
        "print(lst)\n",
        "print(type(lst))"
      ],
      "metadata": {
        "colab": {
          "base_uri": "https://localhost:8080/"
        },
        "id": "-JRt3B8fvgb2",
        "outputId": "9a19b380-7982-49de-d6d4-b08cbd6afe7f"
      },
      "execution_count": 11,
      "outputs": [
        {
          "output_type": "stream",
          "name": "stdout",
          "text": [
            "{2: 4, 5: 25, 3: 9, 8: 64, 6: 36}\n",
            "<class 'dict'>\n"
          ]
        }
      ]
    },
    {
      "cell_type": "code",
      "source": [],
      "metadata": {
        "id": "uF4UOJk5wILb"
      },
      "execution_count": null,
      "outputs": []
    }
  ]
}